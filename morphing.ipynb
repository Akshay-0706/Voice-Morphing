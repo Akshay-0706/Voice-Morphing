{
 "cells": [
  {
   "attachments": {},
   "cell_type": "markdown",
   "metadata": {},
   "source": [
    "### Human voice to Robot voice"
   ]
  },
  {
   "cell_type": "code",
   "execution_count": null,
   "metadata": {},
   "outputs": [],
   "source": [
    "%pip install soundfile scipy numpy pywavelets librosa matplotlib"
   ]
  },
  {
   "cell_type": "code",
   "execution_count": null,
   "metadata": {},
   "outputs": [],
   "source": [
    "import soundfile as sf\n",
    "import numpy as np\n",
    "import pywt\n",
    "import librosa\n",
    "import matplotlib.pyplot as plt\n",
    "import scipy.io.wavfile as wav\n",
    "from scipy.signal import butter, lfilter"
   ]
  },
  {
   "attachments": {},
   "cell_type": "markdown",
   "metadata": {},
   "source": [
    "Load source voice and target voice signals"
   ]
  },
  {
   "cell_type": "code",
   "execution_count": null,
   "metadata": {},
   "outputs": [],
   "source": [
    "# Load the WAV file\n",
    "fs, signal = wav.read('input.wav')"
   ]
  },
  {
   "attachments": {},
   "cell_type": "markdown",
   "metadata": {},
   "source": [
    "Perform Noise filtering"
   ]
  },
  {
   "cell_type": "code",
   "execution_count": null,
   "metadata": {},
   "outputs": [],
   "source": [
    "# Define the filter parameters\n",
    "cutoff_freq = 1000  # Hz\n",
    "filter_order = 5\n",
    "\n",
    "# Create a Butterworth filter\n",
    "nyquist_freq = 0.5 * fs\n",
    "cutoff = cutoff_freq / nyquist_freq\n",
    "b, a = butter(filter_order, cutoff, btype=\"highpass\")"
   ]
  },
  {
   "cell_type": "code",
   "execution_count": null,
   "metadata": {},
   "outputs": [],
   "source": [
    "# Apply the filter to the signal\n",
    "filtered_signal = lfilter(b, a, signal)"
   ]
  },
  {
   "cell_type": "code",
   "execution_count": null,
   "metadata": {},
   "outputs": [],
   "source": [
    "# Save the filtered signal to a new WAV file\n",
    "wav.write(\"filtered.wav\", fs, ((filtered_signal + filtered_signal.min()) * (2 ** 15) / filtered_signal.ptp()).astype(np.int16))"
   ]
  },
  {
   "attachments": {},
   "cell_type": "markdown",
   "metadata": {},
   "source": [
    "## Feature Extraction"
   ]
  },
  {
   "attachments": {},
   "cell_type": "markdown",
   "metadata": {},
   "source": [
    "Perform Discrete Transform"
   ]
  },
  {
   "cell_type": "code",
   "execution_count": null,
   "metadata": {},
   "outputs": [],
   "source": [
    "# Define the wavelet to use and the number of decomposition levels\n",
    "wavelet = 'db4'\n",
    "levels = 5\n",
    "\n",
    "# Perform the discrete wavelet transform\n",
    "coeffs = pywt.wavedec(signal, wavelet, level=levels)\n",
    "\n",
    "# Get the approximation coefficients (i.e., the reconstructed low-pass component)\n",
    "approx = pywt.upcoef('a', coeffs[0], wavelet, level=levels, take=len(signal))"
   ]
  },
  {
   "cell_type": "code",
   "execution_count": null,
   "metadata": {},
   "outputs": [],
   "source": [
    "# Save the approximation coefficients to a new WAV file\n",
    "wav.write(\"approximation.wav\", fs, ((approx + approx.min()) * (2 ** 15) / approx.ptp()).astype(np.int16))"
   ]
  },
  {
   "attachments": {},
   "cell_type": "markdown",
   "metadata": {},
   "source": [
    "Divide the generated approximation wav file into small frames of fixed time period"
   ]
  },
  {
   "cell_type": "code",
   "execution_count": null,
   "metadata": {},
   "outputs": [],
   "source": [
    "# Define the frame length and hop length in seconds\n",
    "frame_length = 0.1  # seconds\n",
    "hop_length = 0.05   # seconds\n",
    "\n",
    "# Convert the frame and hop lengths to samples\n",
    "frame_length_samples = int(frame_length * fs)\n",
    "hop_length_samples = int(hop_length * fs)\n",
    "\n",
    "# Divide the signal into frames\n",
    "frames = librosa.util.frame(signal, frame_length=frame_length_samples, hop_length=hop_length_samples)"
   ]
  },
  {
   "cell_type": "code",
   "execution_count": null,
   "metadata": {},
   "outputs": [],
   "source": [
    "# Save each frame to a separate WAV file\n",
    "for i, frame in enumerate(frames):\n",
    "    filename = f\"./frames/frame_{i+1}.wav\"\n",
    "    wav.write(filename, fs, frame)"
   ]
  },
  {
   "attachments": {},
   "cell_type": "markdown",
   "metadata": {},
   "source": [
    "Estimate fundamental frequency of each frame using auto correlation"
   ]
  },
  {
   "cell_type": "code",
   "execution_count": null,
   "metadata": {},
   "outputs": [],
   "source": [
    "# Initialize an empty list to hold the fundamental frequencies\n",
    "f0s = []\n",
    "\n",
    "# Iterate over each frame\n",
    "for i, frame in enumerate(frames):\n",
    "    # Compute the autocorrelation of the frame\n",
    "    autocorr = np.correlate(frame, frame, mode='full')\n",
    "    \n",
    "    # Get the positive half of the autocorrelation\n",
    "    autocorr_pos = autocorr[len(autocorr)//2:]\n",
    "    \n",
    "    # Find the index of the maximum value in the positive half of the autocorrelation\n",
    "    peak_index = np.argmax(autocorr_pos)\n",
    "    \n",
    "    # Convert the peak index to a frequency value in Hz\n",
    "    f0 = fs / peak_index\n",
    "    \n",
    "    # Append the fundamental frequency to the list\n",
    "    f0s.append(f0)"
   ]
  },
  {
   "attachments": {},
   "cell_type": "markdown",
   "metadata": {},
   "source": [
    "Extract the frequency and bandwidth using cepstral analysis method"
   ]
  },
  {
   "cell_type": "code",
   "execution_count": null,
   "metadata": {},
   "outputs": [],
   "source": [
    "# Set the order of the cepstral analysis\n",
    "order = 12\n",
    "\n",
    "# Initialize an empty array to hold the frequency and bandwidth information for each frame\n",
    "freq_band = np.zeros((frames.shape[1], 2))"
   ]
  },
  {
   "cell_type": "code",
   "execution_count": null,
   "metadata": {},
   "outputs": [],
   "source": [
    "# Iterate over each frame\n",
    "for i in range(frames.shape[1]):\n",
    "    # Apply pre-emphasis to the frame\n",
    "    pre_emphasis = librosa.effects.preemphasis(frames[:, i].astype(np.float32))\n",
    "\n",
    "    # Compute the power spectrum of the pre-emphasized frame\n",
    "    power_spectrum = np.abs(np.fft.fft(pre_emphasis)) ** 2\n",
    "\n",
    "    # Compute the logarithm of the power spectrum\n",
    "    log_power_spectrum = np.log(power_spectrum)\n",
    "\n",
    "    # Compute the cepstrum of the logarithm of the power spectrum\n",
    "    cepstrum = np.real(np.fft.ifft(log_power_spectrum))\n",
    "\n",
    "    # Set the coefficients of the cepstrum beyond the order to zero\n",
    "    cepstrum[order+1:] = 0\n",
    "\n",
    "    # Compute the inverse Fourier transform of the modified cepstrum\n",
    "    modified_power_spectrum = np.exp(np.fft.fft(cepstrum))\n",
    "    modified_power_spectrum[0] = 0\n",
    "\n",
    "    # Find the index of the maximum value in the modified power spectrum\n",
    "    max_index = np.argmax(modified_power_spectrum)\n",
    "\n",
    "    # Convert the index to a frequency value in Hz\n",
    "    freq = fs / max_index\n",
    "\n",
    "    # Compute the bandwidth of the peak in the modified power spectrum\n",
    "    bandwidth = fs / np.sum(modified_power_spectrum > 0.5 * np.max(modified_power_spectrum))\n",
    "\n",
    "    # Store the frequency and bandwidth information for the frame\n",
    "    freq_band[i, :] = [freq, bandwidth]"
   ]
  },
  {
   "attachments": {},
   "cell_type": "markdown",
   "metadata": {},
   "source": [
    "Compute spectral envelope using lpc method"
   ]
  },
  {
   "cell_type": "code",
   "execution_count": null,
   "metadata": {},
   "outputs": [],
   "source": [
    "# Apply pre-emphasis filter\n",
    "signal = librosa.effects.preemphasis(signal.astype(np.float32), 0.95)\n",
    "\n",
    "# Initialize an empty list to hold the spectral envelopes\n",
    "spectral_envelopes = []"
   ]
  },
  {
   "cell_type": "code",
   "execution_count": null,
   "metadata": {},
   "outputs": [],
   "source": [
    "# Iterate over each frame\n",
    "for i in range(frames.shape[1]):\n",
    "    # Get the current frame\n",
    "    frame = frames[:, i]\n",
    "    \n",
    "    # Apply window to the frame\n",
    "    frame_windowed = frame * np.hamming(frame_length_samples)\n",
    "    \n",
    "    # Compute the LPC coefficients using autocorrelation method\n",
    "    lpc_coeffs = librosa.lpc(frame_windowed, order)\n",
    "    \n",
    "    # Compute the roots of the LPC polynomial to obtain the poles\n",
    "    poles = np.roots(lpc_coeffs)\n",
    "    \n",
    "    # Convert the poles to frequencies\n",
    "    freqs = np.arctan2(poles.imag, poles.real) * (fs / (2*np.pi))\n",
    "    \n",
    "    # Compute the magnitude of the poles to obtain the spectral envelope\n",
    "    mags = np.abs(lfilter(lpc_coeffs, [1], np.exp(-2j*np.pi*freqs/fs)))\n",
    "    \n",
    "    # Normalize the spectral envelope\n",
    "    mags /= mags.max()\n",
    "    \n",
    "    # Append the spectral envelope to the list\n",
    "    spectral_envelopes.append(mags)"
   ]
  },
  {
   "attachments": {},
   "cell_type": "markdown",
   "metadata": {},
   "source": [
    "Concatenate extracted features of each frame into a feature vector"
   ]
  },
  {
   "cell_type": "code",
   "execution_count": null,
   "metadata": {},
   "outputs": [],
   "source": [
    "# Concatenate the spectral envelopes of each frame into a feature vector\n",
    "feature_vector = np.hstack(spectral_envelopes)"
   ]
  },
  {
   "attachments": {},
   "cell_type": "markdown",
   "metadata": {},
   "source": [
    "## Voice Synthesis"
   ]
  },
  {
   "attachments": {},
   "cell_type": "markdown",
   "metadata": {},
   "source": [
    "Apply signal processing techniques (phase vocoder)"
   ]
  },
  {
   "attachments": {},
   "cell_type": "markdown",
   "metadata": {},
   "source": [
    "### The code below may be incorrect"
   ]
  },
  {
   "cell_type": "code",
   "execution_count": null,
   "metadata": {},
   "outputs": [],
   "source": [
    "# # Load the approximation WAV file\n",
    "# fs, signal = wav.read(\"approximation.wav\")\n",
    "# signal, fs = librosa.load(filename, sr=None, mono=True)\n",
    "\n",
    "# # Define the speed-up factor\n",
    "# speed_up_factor = 2\n",
    "\n",
    "# # Write the stretched signal to a WAV file\n",
    "# wav.write(\"stretched.wav\", fs, feature_vector.astype(np.int16))"
   ]
  }
 ],
 "metadata": {
  "kernelspec": {
   "display_name": "Python 3",
   "language": "python",
   "name": "python3"
  },
  "language_info": {
   "codemirror_mode": {
    "name": "ipython",
    "version": 3
   },
   "file_extension": ".py",
   "mimetype": "text/x-python",
   "name": "python",
   "nbconvert_exporter": "python",
   "pygments_lexer": "ipython3",
   "version": "3.10.8"
  },
  "orig_nbformat": 4
 },
 "nbformat": 4,
 "nbformat_minor": 2
}
